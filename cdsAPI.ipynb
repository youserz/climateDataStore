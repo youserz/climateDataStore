{
 "cells": [
  {
   "cell_type": "markdown",
   "id": "765cbfce",
   "metadata": {},
   "source": [
    "### ***Imports***"
   ]
  },
  {
   "cell_type": "code",
   "execution_count": 1,
   "id": "6d42b45f",
   "metadata": {},
   "outputs": [
    {
     "name": "stderr",
     "output_type": "stream",
     "text": [
      "2025-09-02 09:48:21,878 INFO [2024-09-26T00:00:00] Watch our [Forum](https://forum.ecmwf.int/) for Announcements, news and other discussed topics.\n"
     ]
    }
   ],
   "source": [
    "import cdsapi\n",
    "import os\n",
    "from dotenv import load_dotenv\n",
    "import xarray as xr\n",
    "\n",
    "load_dotenv()\n",
    "client = cdsapi.Client(\n",
    "    url=os.getenv(\"CDSAPI_URL\"),\n",
    "    key=os.getenv(\"CDSAPI_KEY\")\n",
    ")"
   ]
  },
  {
   "cell_type": "markdown",
   "id": "3fdebb6b",
   "metadata": {},
   "source": [
    "## ***Requests***"
   ]
  },
  {
   "cell_type": "code",
   "execution_count": 2,
   "id": "57ef0cf1",
   "metadata": {},
   "outputs": [
    {
     "name": "stderr",
     "output_type": "stream",
     "text": [
      "2025-09-02 08:42:08,279 INFO [2024-09-26T00:00:00] Watch our [Forum](https://forum.ecmwf.int/) for Announcements, news and other discussed topics.\n",
      "2025-09-02 08:42:09,346 INFO Request ID is d207942f-a675-414a-8697-16acf1216bae\n",
      "2025-09-02 08:42:09,803 INFO status has been updated to accepted\n",
      "2025-09-02 08:42:19,244 INFO status has been updated to running\n",
      "2025-09-02 08:42:25,082 INFO status has been updated to successful\n",
      "                                                                                       \r"
     ]
    },
    {
     "data": {
      "text/plain": [
       "'output.nc'"
      ]
     },
     "execution_count": 2,
     "metadata": {},
     "output_type": "execute_result"
    }
   ],
   "source": [
    "dataset = \"reanalysis-era5-single-levels\"\n",
    "request = {\n",
    "    \"product_type\": [\"reanalysis\"],\n",
    "    \"year\": [\"2002\"],\n",
    "    \"month\": [\"03\"],\n",
    "    \"day\": [\"11\"],\n",
    "    \"time\": [\"00:00\", \"01:00\", \"02:00\",\n",
    "        \"03:00\", \"04:00\", \"05:00\",\n",
    "        \"06:00\", \"07:00\", \"08:00\",\n",
    "        \"09:00\", \"10:00\", \"11:00\",\n",
    "        \"12:00\", \"13:00\", \"14:00\",\n",
    "        \"15:00\", \"16:00\", \"17:00\",\n",
    "        \"18:00\", \"19:00\", \"20:00\",\n",
    "        \"21:00\", \"22:00\", \"23:00\"],\n",
    "    \"data_format\": \"netcdf\",\n",
    "    \"download_format\": \"unarchived\",\n",
    "    \"variable\": [\n",
    "        \"2m_temperature\",\n",
    "    ],\n",
    "    \"area\": [-19, -48, -23, -43]\n",
    "}\n",
    "\n",
    "client = cdsapi.Client()\n",
    "client.retrieve(dataset, request, \"output.nc\")"
   ]
  },
  {
   "cell_type": "code",
   "execution_count": 3,
   "id": "6269b53d",
   "metadata": {},
   "outputs": [
    {
     "name": "stdout",
     "output_type": "stream",
     "text": [
      "<xarray.Dataset> Size: 35kB\n",
      "Dimensions:     (valid_time: 24, latitude: 17, longitude: 21)\n",
      "Coordinates:\n",
      "    number      int64 8B ...\n",
      "  * valid_time  (valid_time) datetime64[ns] 192B 2002-03-11 ... 2002-03-11T23...\n",
      "  * latitude    (latitude) float64 136B -19.0 -19.25 -19.5 ... -22.75 -23.0\n",
      "  * longitude   (longitude) float64 168B -48.0 -47.75 -47.5 ... -43.25 -43.0\n",
      "    expver      (valid_time) <U4 384B ...\n",
      "Data variables:\n",
      "    t2m         (valid_time, latitude, longitude) float32 34kB ...\n",
      "Attributes:\n",
      "    GRIB_centre:             ecmf\n",
      "    GRIB_centreDescription:  European Centre for Medium-Range Weather Forecasts\n",
      "    GRIB_subCentre:          0\n",
      "    Conventions:             CF-1.7\n",
      "    institution:             European Centre for Medium-Range Weather Forecasts\n",
      "    history:                 2025-09-02T11:42 GRIB to CDM+CF via cfgrib-0.9.1...\n"
     ]
    }
   ],
   "source": [
    "ds = xr.open_dataset(\"output.nc\", engine=\"netcdf4\")\n",
    "print(ds)"
   ]
  },
  {
   "cell_type": "markdown",
   "id": "12201b30",
   "metadata": {},
   "source": [
    "## ***Export***"
   ]
  },
  {
   "cell_type": "code",
   "execution_count": 4,
   "id": "0d82a3cf",
   "metadata": {},
   "outputs": [
    {
     "name": "stdout",
     "output_type": "stream",
     "text": [
      "Arquivo 'dados_completos.csv' salvo com sucesso!\n",
      "  valid_time  latitude  longitude         t2m  number expver\n",
      "0 2002-03-11     -19.0     -48.00  298.513550       0   0001\n",
      "1 2002-03-11     -19.0     -47.75  298.341675       0   0001\n",
      "2 2002-03-11     -19.0     -47.50  297.970581       0   0001\n",
      "3 2002-03-11     -19.0     -47.25  297.794800       0   0001\n",
      "4 2002-03-11     -19.0     -47.00  297.359253       0   0001\n"
     ]
    }
   ],
   "source": [
    "ds = xr.open_dataset(\"output.nc\")\n",
    "\n",
    "df_completo = ds.to_dataframe()\n",
    "df_completo = df_completo.reset_index()\n",
    "df_completo.to_csv(\"dados_completos.csv\", index=False)\n",
    "\n",
    "print(\"Arquivo 'dados_completos.csv' salvo com sucesso!\")\n",
    "print(df_completo.head())\n",
    "#Visualizar graficos -> ncview output.nc"
   ]
  },
  {
   "cell_type": "code",
   "execution_count": 4,
   "id": "381781bb",
   "metadata": {},
   "outputs": [
    {
     "name": "stdout",
     "output_type": "stream",
     "text": [
      "           valid_time  bnds  latitude  longitude valid_time_bnds        t2m\n",
      "0 2002-03-11 11:30:00     0     -19.0     -48.00      2002-03-11  24.790552\n",
      "1 2002-03-11 11:30:00     0     -19.0     -47.75      2002-03-11  24.401972\n",
      "2 2002-03-11 11:30:00     0     -19.0     -47.50      2002-03-11  24.181604\n",
      "3 2002-03-11 11:30:00     0     -19.0     -47.25      2002-03-11  24.268671\n",
      "4 2002-03-11 11:30:00     0     -19.0     -47.00      2002-03-11  23.912622\n"
     ]
    }
   ],
   "source": [
    "ds = xr.open_dataset(\"teste_medial1.nc\", engine=\"netcdf4\")\n",
    "df_celsius = ds.to_dataframe()\n",
    "df_celsius = df_celsius.reset_index()\n",
    "df_celsius.to_csv(\"temperaturaNormalizada.csv\", index=False)\n",
    "print(df_celsius.head())"
   ]
  },
  {
   "cell_type": "code",
   "execution_count": 13,
   "id": "1394b0c9",
   "metadata": {},
   "outputs": [
    {
     "name": "stdout",
     "output_type": "stream",
     "text": [
      "     latitude  longitude\n",
      "0       -19.0     -48.00\n",
      "1       -19.0     -47.75\n",
      "2       -19.0     -47.50\n",
      "3       -19.0     -47.25\n",
      "4       -19.0     -47.00\n",
      "..        ...        ...\n",
      "352     -23.0     -44.00\n",
      "353     -23.0     -43.75\n",
      "354     -23.0     -43.50\n",
      "355     -23.0     -43.25\n",
      "356     -23.0     -43.00\n",
      "\n",
      "[357 rows x 2 columns]\n",
      "Total de linhas: 714\n",
      "Coordenadas únicas: 357\n"
     ]
    }
   ],
   "source": [
    "coordenadas_unicas = df[['latitude', 'longitude']].drop_duplicates()\n",
    "print(coordenadas_unicas)\n",
    "\n",
    "print(f\"Total de linhas: {len(df)}\")\n",
    "print(f\"Coordenadas únicas: {len(coordenadas_unicas)}\")\n"
   ]
  }
 ],
 "metadata": {
  "kernelspec": {
   "display_name": "Python 3",
   "language": "python",
   "name": "python3"
  },
  "language_info": {
   "codemirror_mode": {
    "name": "ipython",
    "version": 3
   },
   "file_extension": ".py",
   "mimetype": "text/x-python",
   "name": "python",
   "nbconvert_exporter": "python",
   "pygments_lexer": "ipython3",
   "version": "3.13.7"
  }
 },
 "nbformat": 4,
 "nbformat_minor": 5
}
