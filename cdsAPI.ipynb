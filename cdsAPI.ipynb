{
 "cells": [
  {
   "cell_type": "markdown",
   "id": "765cbfce",
   "metadata": {},
   "source": [
    "### ***Imports***"
   ]
  },
  {
   "cell_type": "code",
   "execution_count": 1,
   "id": "6d42b45f",
   "metadata": {},
   "outputs": [
    {
     "name": "stderr",
     "output_type": "stream",
     "text": [
      "2025-09-04 10:23:56,875 INFO [2024-09-26T00:00:00] Watch our [Forum](https://forum.ecmwf.int/) for Announcements, news and other discussed topics.\n"
     ]
    }
   ],
   "source": [
    "import cdsapi\n",
    "import os\n",
    "from dotenv import load_dotenv\n",
    "import xarray as xr\n",
    "\n",
    "load_dotenv()\n",
    "client = cdsapi.Client(\n",
    "    url=os.getenv(\"CDSAPI_URL\"),\n",
    "    key=os.getenv(\"CDSAPI_KEY\")\n",
    ")"
   ]
  },
  {
   "cell_type": "markdown",
   "id": "3fdebb6b",
   "metadata": {},
   "source": [
    "## ***Requests***"
   ]
  },
  {
   "cell_type": "code",
   "execution_count": 6,
   "id": "57ef0cf1",
   "metadata": {},
   "outputs": [
    {
     "name": "stderr",
     "output_type": "stream",
     "text": [
      "2025-09-04 10:38:14,126 INFO [2024-09-26T00:00:00] Watch our [Forum](https://forum.ecmwf.int/) for Announcements, news and other discussed topics.\n",
      "2025-09-04 10:38:15,137 INFO Request ID is 89417418-3b27-43b8-bdc0-94fde20e37dc\n",
      "2025-09-04 10:38:15,455 INFO status has been updated to accepted\n",
      "2025-09-04 10:38:30,199 INFO status has been updated to running\n",
      "2025-09-04 10:39:33,083 INFO status has been updated to successful\n",
      "                                                                                     \r"
     ]
    },
    {
     "data": {
      "text/plain": [
       "'baseTemperaturas.nc'"
      ]
     },
     "execution_count": 6,
     "metadata": {},
     "output_type": "execute_result"
    }
   ],
   "source": [
    "dataset = \"reanalysis-era5-single-levels\"\n",
    "request = {\n",
    "    \"product_type\": [\"reanalysis\"],\n",
    "    \"year\": [\"2002\"],\n",
    "    \"month\": [\"03\"],\n",
    "    \"day\": [\"11\", \"12\", \"13\", \"14\", \"15\"],\n",
    "    \"time\": [\"00:00\", \"01:00\", \"02:00\",\n",
    "        \"03:00\", \"04:00\", \"05:00\",\n",
    "        \"06:00\", \"07:00\", \"08:00\",\n",
    "        \"09:00\", \"10:00\", \"11:00\",\n",
    "        \"12:00\", \"13:00\", \"14:00\",\n",
    "        \"15:00\", \"16:00\", \"17:00\",\n",
    "        \"18:00\", \"19:00\", \"20:00\",\n",
    "        \"21:00\", \"22:00\", \"23:00\"],\n",
    "    \"data_format\": \"netcdf\",\n",
    "    \"download_format\": \"unarchived\",\n",
    "    \"variable\": [\n",
    "        \"soil_temperature_level_1\",\n",
    "        \"soil_temperature_level_2\",\n",
    "        \"lake_bottom_temperature\",\n",
    "    ],\n",
    "    \"area\": [-19, -48, -23, -43]\n",
    "}\n",
    "\n",
    "client = cdsapi.Client()\n",
    "client.retrieve(dataset, request, \"baseTemperaturas.nc\")"
   ]
  },
  {
   "cell_type": "code",
   "execution_count": 7,
   "id": "6269b53d",
   "metadata": {},
   "outputs": [
    {
     "name": "stdout",
     "output_type": "stream",
     "text": [
      "<xarray.Dataset> Size: 517kB\n",
      "Dimensions:     (valid_time: 120, latitude: 17, longitude: 21)\n",
      "Coordinates:\n",
      "    number      int64 8B ...\n",
      "  * valid_time  (valid_time) datetime64[ns] 960B 2002-03-11 ... 2002-03-15T23...\n",
      "  * latitude    (latitude) float64 136B -19.0 -19.25 -19.5 ... -22.75 -23.0\n",
      "  * longitude   (longitude) float64 168B -48.0 -47.75 -47.5 ... -43.25 -43.0\n",
      "    expver      (valid_time) <U4 2kB ...\n",
      "Data variables:\n",
      "    stl1        (valid_time, latitude, longitude) float32 171kB ...\n",
      "    stl2        (valid_time, latitude, longitude) float32 171kB ...\n",
      "    lblt        (valid_time, latitude, longitude) float32 171kB ...\n",
      "Attributes:\n",
      "    GRIB_centre:             ecmf\n",
      "    GRIB_centreDescription:  European Centre for Medium-Range Weather Forecasts\n",
      "    GRIB_subCentre:          0\n",
      "    Conventions:             CF-1.7\n",
      "    institution:             European Centre for Medium-Range Weather Forecasts\n",
      "    history:                 2025-09-04T13:39 GRIB to CDM+CF via cfgrib-0.9.1...\n"
     ]
    }
   ],
   "source": [
    "ds = xr.open_dataset(\"baseTemperaturas.nc\", engine=\"netcdf4\")\n",
    "print(ds)"
   ]
  },
  {
   "cell_type": "markdown",
   "id": "12201b30",
   "metadata": {},
   "source": [
    "## ***Export***"
   ]
  },
  {
   "cell_type": "code",
   "execution_count": 8,
   "id": "0d82a3cf",
   "metadata": {},
   "outputs": [
    {
     "name": "stdout",
     "output_type": "stream",
     "text": [
      "Arquivo 'dados_completos.csv' salvo com sucesso!\n",
      "  valid_time  latitude  longitude        stl1        stl2        lblt  number  \\\n",
      "0 2002-03-11     -19.0     -48.00  299.023926  298.848389  296.660889       0   \n",
      "1 2002-03-11     -19.0     -47.75  298.691895  298.615967  296.469482       0   \n",
      "2 2002-03-11     -19.0     -47.50  298.369629  298.465576  296.379639       0   \n",
      "3 2002-03-11     -19.0     -47.25  298.227051  298.457764  296.517334       0   \n",
      "4 2002-03-11     -19.0     -47.00  297.795410  298.137451  296.128174       0   \n",
      "\n",
      "  expver  \n",
      "0   0001  \n",
      "1   0001  \n",
      "2   0001  \n",
      "3   0001  \n",
      "4   0001  \n"
     ]
    }
   ],
   "source": [
    "ds = xr.open_dataset(\"baseTemperaturas.nc\")\n",
    "\n",
    "df_completo = ds.to_dataframe()\n",
    "df_completo = df_completo.reset_index()\n",
    "df_completo.to_csv(\"baseTemperaturas.csv\", index=False)\n",
    "\n",
    "print(\"Arquivo 'dados_completos.csv' salvo com sucesso!\")\n",
    "print(df_completo.head())\n",
    "#Visualizar graficos -> ncview output.nc"
   ]
  },
  {
   "cell_type": "code",
   "execution_count": 9,
   "id": "381781bb",
   "metadata": {},
   "outputs": [
    {
     "name": "stdout",
     "output_type": "stream",
     "text": [
      "           valid_time  bnds  latitude  longitude valid_time_bnds       stl1  \\\n",
      "0 2002-03-11 11:30:00     0     -19.0     -48.00      2002-03-11  25.035120   \n",
      "1 2002-03-11 11:30:00     0     -19.0     -47.75      2002-03-11  24.667444   \n",
      "2 2002-03-11 11:30:00     0     -19.0     -47.50      2002-03-11  24.437952   \n",
      "3 2002-03-11 11:30:00     0     -19.0     -47.25      2002-03-11  24.448847   \n",
      "4 2002-03-11 11:30:00     0     -19.0     -47.00      2002-03-11  24.155146   \n",
      "\n",
      "        stl2       lblt  \n",
      "0  24.663874  23.303736  \n",
      "1  24.379938  23.110163  \n",
      "2  24.202051  23.053888  \n",
      "3  24.191370  23.198511  \n",
      "4  23.896540  22.811426  \n"
     ]
    }
   ],
   "source": [
    "ds = xr.open_dataset(\"definitivo.nc\", engine=\"netcdf4\")\n",
    "df_celsius = ds.to_dataframe()\n",
    "df_celsius = df_celsius.reset_index()\n",
    "df_celsius.to_csv(\"temperaturaNormalizada.csv\", index=False)\n",
    "print(df_celsius.head())"
   ]
  },
  {
   "cell_type": "code",
   "execution_count": 11,
   "id": "1394b0c9",
   "metadata": {},
   "outputs": [
    {
     "name": "stdout",
     "output_type": "stream",
     "text": [
      "     latitude  longitude\n",
      "0       -19.0     -48.00\n",
      "1       -19.0     -47.75\n",
      "2       -19.0     -47.50\n",
      "3       -19.0     -47.25\n",
      "4       -19.0     -47.00\n",
      "..        ...        ...\n",
      "352     -23.0     -44.00\n",
      "353     -23.0     -43.75\n",
      "354     -23.0     -43.50\n",
      "355     -23.0     -43.25\n",
      "356     -23.0     -43.00\n",
      "\n",
      "[357 rows x 2 columns]\n",
      "Total de linhas: 3570\n",
      "Coordenadas únicas: 357\n"
     ]
    }
   ],
   "source": [
    "coordenadas_unicas = df_celsius[['latitude', 'longitude']].drop_duplicates()\n",
    "print(coordenadas_unicas)\n",
    "\n",
    "print(f\"Total de linhas: {len(df_celsius)}\")\n",
    "print(f\"Coordenadas únicas: {len(coordenadas_unicas)}\")\n"
   ]
  }
 ],
 "metadata": {
  "kernelspec": {
   "display_name": "Python 3",
   "language": "python",
   "name": "python3"
  },
  "language_info": {
   "codemirror_mode": {
    "name": "ipython",
    "version": 3
   },
   "file_extension": ".py",
   "mimetype": "text/x-python",
   "name": "python",
   "nbconvert_exporter": "python",
   "pygments_lexer": "ipython3",
   "version": "3.13.7"
  }
 },
 "nbformat": 4,
 "nbformat_minor": 5
}
